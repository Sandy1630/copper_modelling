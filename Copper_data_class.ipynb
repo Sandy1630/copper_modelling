{
 "cells": [
  {
   "cell_type": "code",
   "execution_count": 1,
   "metadata": {
    "id": "5cCCG70WKx2p"
   },
   "outputs": [],
   "source": [
    "import pandas as pd\n",
    "df=pd.read_csv('copper_model_class.csv')"
   ]
  },
  {
   "cell_type": "code",
   "execution_count": 2,
   "metadata": {
    "colab": {
     "base_uri": "https://localhost:8080/",
     "height": 330
    },
    "id": "zs1IVbxaMvA7",
    "outputId": "c44dea85-7ad0-4393-a428-4765defab988"
   },
   "outputs": [
    {
     "data": {
      "text/html": [
       "<div>\n",
       "<style scoped>\n",
       "    .dataframe tbody tr th:only-of-type {\n",
       "        vertical-align: middle;\n",
       "    }\n",
       "\n",
       "    .dataframe tbody tr th {\n",
       "        vertical-align: top;\n",
       "    }\n",
       "\n",
       "    .dataframe thead th {\n",
       "        text-align: right;\n",
       "    }\n",
       "</style>\n",
       "<table border=\"1\" class=\"dataframe\">\n",
       "  <thead>\n",
       "    <tr style=\"text-align: right;\">\n",
       "      <th></th>\n",
       "      <th>Unnamed: 0</th>\n",
       "      <th>item_date</th>\n",
       "      <th>quantity tons</th>\n",
       "      <th>customer</th>\n",
       "      <th>country</th>\n",
       "      <th>status</th>\n",
       "      <th>item type</th>\n",
       "      <th>application</th>\n",
       "      <th>thickness</th>\n",
       "      <th>width</th>\n",
       "      <th>product_ref</th>\n",
       "      <th>delivery date</th>\n",
       "      <th>selling_price</th>\n",
       "    </tr>\n",
       "  </thead>\n",
       "  <tbody>\n",
       "    <tr>\n",
       "      <th>0</th>\n",
       "      <td>0</td>\n",
       "      <td>1970-01-01</td>\n",
       "      <td>54.151139</td>\n",
       "      <td>30156308.0</td>\n",
       "      <td>28.0</td>\n",
       "      <td>Won</td>\n",
       "      <td>W</td>\n",
       "      <td>10.0</td>\n",
       "      <td>2.00</td>\n",
       "      <td>1500.0</td>\n",
       "      <td>1670798778</td>\n",
       "      <td>1970-01-01</td>\n",
       "      <td>6.749931</td>\n",
       "    </tr>\n",
       "    <tr>\n",
       "      <th>1</th>\n",
       "      <td>1</td>\n",
       "      <td>1970-01-01</td>\n",
       "      <td>151.446000</td>\n",
       "      <td>30202938.0</td>\n",
       "      <td>25.0</td>\n",
       "      <td>Won</td>\n",
       "      <td>W</td>\n",
       "      <td>41.0</td>\n",
       "      <td>0.80</td>\n",
       "      <td>1210.0</td>\n",
       "      <td>1668701718</td>\n",
       "      <td>1970-01-01</td>\n",
       "      <td>6.953684</td>\n",
       "    </tr>\n",
       "    <tr>\n",
       "      <th>2</th>\n",
       "      <td>2</td>\n",
       "      <td>1970-01-01</td>\n",
       "      <td>151.446000</td>\n",
       "      <td>30153963.0</td>\n",
       "      <td>30.0</td>\n",
       "      <td>Won</td>\n",
       "      <td>WI</td>\n",
       "      <td>28.0</td>\n",
       "      <td>0.38</td>\n",
       "      <td>952.0</td>\n",
       "      <td>628377</td>\n",
       "      <td>1970-01-01</td>\n",
       "      <td>6.468211</td>\n",
       "    </tr>\n",
       "    <tr>\n",
       "      <th>3</th>\n",
       "      <td>3</td>\n",
       "      <td>1970-01-01</td>\n",
       "      <td>151.446000</td>\n",
       "      <td>30349574.0</td>\n",
       "      <td>32.0</td>\n",
       "      <td>Won</td>\n",
       "      <td>S</td>\n",
       "      <td>59.0</td>\n",
       "      <td>2.30</td>\n",
       "      <td>1317.0</td>\n",
       "      <td>1668701718</td>\n",
       "      <td>1970-01-01</td>\n",
       "      <td>6.643790</td>\n",
       "    </tr>\n",
       "    <tr>\n",
       "      <th>4</th>\n",
       "      <td>4</td>\n",
       "      <td>1970-01-01</td>\n",
       "      <td>151.446000</td>\n",
       "      <td>30211560.0</td>\n",
       "      <td>28.0</td>\n",
       "      <td>Won</td>\n",
       "      <td>W</td>\n",
       "      <td>10.0</td>\n",
       "      <td>4.00</td>\n",
       "      <td>1980.0</td>\n",
       "      <td>640665</td>\n",
       "      <td>1970-01-01</td>\n",
       "      <td>6.357842</td>\n",
       "    </tr>\n",
       "  </tbody>\n",
       "</table>\n",
       "</div>"
      ],
      "text/plain": [
       "   Unnamed: 0   item_date  quantity tons    customer  country status  \\\n",
       "0           0  1970-01-01      54.151139  30156308.0     28.0    Won   \n",
       "1           1  1970-01-01     151.446000  30202938.0     25.0    Won   \n",
       "2           2  1970-01-01     151.446000  30153963.0     30.0    Won   \n",
       "3           3  1970-01-01     151.446000  30349574.0     32.0    Won   \n",
       "4           4  1970-01-01     151.446000  30211560.0     28.0    Won   \n",
       "\n",
       "  item type  application  thickness   width  product_ref delivery date  \\\n",
       "0         W         10.0       2.00  1500.0   1670798778    1970-01-01   \n",
       "1         W         41.0       0.80  1210.0   1668701718    1970-01-01   \n",
       "2        WI         28.0       0.38   952.0       628377    1970-01-01   \n",
       "3         S         59.0       2.30  1317.0   1668701718    1970-01-01   \n",
       "4         W         10.0       4.00  1980.0       640665    1970-01-01   \n",
       "\n",
       "   selling_price  \n",
       "0       6.749931  \n",
       "1       6.953684  \n",
       "2       6.468211  \n",
       "3       6.643790  \n",
       "4       6.357842  "
      ]
     },
     "execution_count": 2,
     "metadata": {},
     "output_type": "execute_result"
    }
   ],
   "source": [
    "df.head()"
   ]
  },
  {
   "cell_type": "code",
   "execution_count": 7,
   "metadata": {},
   "outputs": [
    {
     "data": {
      "text/html": [
       "<div>\n",
       "<style scoped>\n",
       "    .dataframe tbody tr th:only-of-type {\n",
       "        vertical-align: middle;\n",
       "    }\n",
       "\n",
       "    .dataframe tbody tr th {\n",
       "        vertical-align: top;\n",
       "    }\n",
       "\n",
       "    .dataframe thead th {\n",
       "        text-align: right;\n",
       "    }\n",
       "</style>\n",
       "<table border=\"1\" class=\"dataframe\">\n",
       "  <thead>\n",
       "    <tr style=\"text-align: right;\">\n",
       "      <th></th>\n",
       "      <th>Unnamed: 0</th>\n",
       "      <th>item_date</th>\n",
       "      <th>quantity tons</th>\n",
       "      <th>customer</th>\n",
       "      <th>country</th>\n",
       "      <th>status</th>\n",
       "      <th>item type</th>\n",
       "      <th>application</th>\n",
       "      <th>thickness</th>\n",
       "      <th>width</th>\n",
       "      <th>product_ref</th>\n",
       "      <th>delivery date</th>\n",
       "      <th>selling_price</th>\n",
       "    </tr>\n",
       "  </thead>\n",
       "  <tbody>\n",
       "    <tr>\n",
       "      <th>171</th>\n",
       "      <td>171</td>\n",
       "      <td>1970-01-01</td>\n",
       "      <td>8.718789</td>\n",
       "      <td>30223403.0</td>\n",
       "      <td>78.0</td>\n",
       "      <td>Lost</td>\n",
       "      <td>5</td>\n",
       "      <td>10.0</td>\n",
       "      <td>1.000</td>\n",
       "      <td>1500.0</td>\n",
       "      <td>1668701718</td>\n",
       "      <td>1970-01-01</td>\n",
       "      <td>7.133296</td>\n",
       "    </tr>\n",
       "    <tr>\n",
       "      <th>174</th>\n",
       "      <td>174</td>\n",
       "      <td>1970-01-01</td>\n",
       "      <td>39.553513</td>\n",
       "      <td>30165992.0</td>\n",
       "      <td>77.0</td>\n",
       "      <td>Lost</td>\n",
       "      <td>3</td>\n",
       "      <td>10.0</td>\n",
       "      <td>1.000</td>\n",
       "      <td>1500.0</td>\n",
       "      <td>164141591</td>\n",
       "      <td>1970-01-01</td>\n",
       "      <td>7.110696</td>\n",
       "    </tr>\n",
       "    <tr>\n",
       "      <th>175</th>\n",
       "      <td>175</td>\n",
       "      <td>1970-01-01</td>\n",
       "      <td>11.454558</td>\n",
       "      <td>30223403.0</td>\n",
       "      <td>78.0</td>\n",
       "      <td>Lost</td>\n",
       "      <td>5</td>\n",
       "      <td>10.0</td>\n",
       "      <td>4.000</td>\n",
       "      <td>1500.0</td>\n",
       "      <td>1668701718</td>\n",
       "      <td>1970-01-01</td>\n",
       "      <td>7.078342</td>\n",
       "    </tr>\n",
       "    <tr>\n",
       "      <th>176</th>\n",
       "      <td>176</td>\n",
       "      <td>1970-01-01</td>\n",
       "      <td>37.655526</td>\n",
       "      <td>30165992.0</td>\n",
       "      <td>77.0</td>\n",
       "      <td>Lost</td>\n",
       "      <td>3</td>\n",
       "      <td>10.0</td>\n",
       "      <td>0.800</td>\n",
       "      <td>1250.0</td>\n",
       "      <td>164141591</td>\n",
       "      <td>1970-01-01</td>\n",
       "      <td>7.130099</td>\n",
       "    </tr>\n",
       "    <tr>\n",
       "      <th>179</th>\n",
       "      <td>179</td>\n",
       "      <td>1970-01-01</td>\n",
       "      <td>10.291602</td>\n",
       "      <td>30223403.0</td>\n",
       "      <td>78.0</td>\n",
       "      <td>Lost</td>\n",
       "      <td>5</td>\n",
       "      <td>10.0</td>\n",
       "      <td>0.800</td>\n",
       "      <td>1500.0</td>\n",
       "      <td>1668701718</td>\n",
       "      <td>1970-01-01</td>\n",
       "      <td>7.157735</td>\n",
       "    </tr>\n",
       "    <tr>\n",
       "      <th>...</th>\n",
       "      <td>...</td>\n",
       "      <td>...</td>\n",
       "      <td>...</td>\n",
       "      <td>...</td>\n",
       "      <td>...</td>\n",
       "      <td>...</td>\n",
       "      <td>...</td>\n",
       "      <td>...</td>\n",
       "      <td>...</td>\n",
       "      <td>...</td>\n",
       "      <td>...</td>\n",
       "      <td>...</td>\n",
       "      <td>...</td>\n",
       "    </tr>\n",
       "    <tr>\n",
       "      <th>181526</th>\n",
       "      <td>181527</td>\n",
       "      <td>1970-01-01</td>\n",
       "      <td>63.859521</td>\n",
       "      <td>30161559.0</td>\n",
       "      <td>30.0</td>\n",
       "      <td>Lost</td>\n",
       "      <td>3</td>\n",
       "      <td>10.0</td>\n",
       "      <td>5.850</td>\n",
       "      <td>1525.0</td>\n",
       "      <td>640665</td>\n",
       "      <td>1970-01-01</td>\n",
       "      <td>6.124683</td>\n",
       "    </tr>\n",
       "    <tr>\n",
       "      <th>181528</th>\n",
       "      <td>181529</td>\n",
       "      <td>1970-01-01</td>\n",
       "      <td>56.028562</td>\n",
       "      <td>30161559.0</td>\n",
       "      <td>30.0</td>\n",
       "      <td>Lost</td>\n",
       "      <td>3</td>\n",
       "      <td>10.0</td>\n",
       "      <td>6.449</td>\n",
       "      <td>1500.0</td>\n",
       "      <td>640665</td>\n",
       "      <td>1970-01-01</td>\n",
       "      <td>6.126869</td>\n",
       "    </tr>\n",
       "    <tr>\n",
       "      <th>181530</th>\n",
       "      <td>181531</td>\n",
       "      <td>1970-01-01</td>\n",
       "      <td>151.446000</td>\n",
       "      <td>30161559.0</td>\n",
       "      <td>30.0</td>\n",
       "      <td>Lost</td>\n",
       "      <td>3</td>\n",
       "      <td>10.0</td>\n",
       "      <td>3.850</td>\n",
       "      <td>1830.0</td>\n",
       "      <td>640665</td>\n",
       "      <td>1970-01-01</td>\n",
       "      <td>6.131226</td>\n",
       "    </tr>\n",
       "    <tr>\n",
       "      <th>181532</th>\n",
       "      <td>181533</td>\n",
       "      <td>1970-01-01</td>\n",
       "      <td>102.993849</td>\n",
       "      <td>30198408.0</td>\n",
       "      <td>25.0</td>\n",
       "      <td>Lost</td>\n",
       "      <td>3</td>\n",
       "      <td>10.0</td>\n",
       "      <td>1.400</td>\n",
       "      <td>1150.0</td>\n",
       "      <td>1668701718</td>\n",
       "      <td>1970-01-01</td>\n",
       "      <td>6.586172</td>\n",
       "    </tr>\n",
       "    <tr>\n",
       "      <th>181534</th>\n",
       "      <td>181535</td>\n",
       "      <td>1970-01-01</td>\n",
       "      <td>106.072262</td>\n",
       "      <td>30198408.0</td>\n",
       "      <td>25.0</td>\n",
       "      <td>Lost</td>\n",
       "      <td>3</td>\n",
       "      <td>10.0</td>\n",
       "      <td>1.400</td>\n",
       "      <td>1146.0</td>\n",
       "      <td>1668701718</td>\n",
       "      <td>1970-01-01</td>\n",
       "      <td>6.588926</td>\n",
       "    </tr>\n",
       "  </tbody>\n",
       "</table>\n",
       "<p>34438 rows × 13 columns</p>\n",
       "</div>"
      ],
      "text/plain": [
       "        Unnamed: 0   item_date  quantity tons    customer  country status  \\\n",
       "171            171  1970-01-01       8.718789  30223403.0     78.0   Lost   \n",
       "174            174  1970-01-01      39.553513  30165992.0     77.0   Lost   \n",
       "175            175  1970-01-01      11.454558  30223403.0     78.0   Lost   \n",
       "176            176  1970-01-01      37.655526  30165992.0     77.0   Lost   \n",
       "179            179  1970-01-01      10.291602  30223403.0     78.0   Lost   \n",
       "...            ...         ...            ...         ...      ...    ...   \n",
       "181526      181527  1970-01-01      63.859521  30161559.0     30.0   Lost   \n",
       "181528      181529  1970-01-01      56.028562  30161559.0     30.0   Lost   \n",
       "181530      181531  1970-01-01     151.446000  30161559.0     30.0   Lost   \n",
       "181532      181533  1970-01-01     102.993849  30198408.0     25.0   Lost   \n",
       "181534      181535  1970-01-01     106.072262  30198408.0     25.0   Lost   \n",
       "\n",
       "        item type  application  thickness   width  product_ref delivery date  \\\n",
       "171             5         10.0      1.000  1500.0   1668701718    1970-01-01   \n",
       "174             3         10.0      1.000  1500.0    164141591    1970-01-01   \n",
       "175             5         10.0      4.000  1500.0   1668701718    1970-01-01   \n",
       "176             3         10.0      0.800  1250.0    164141591    1970-01-01   \n",
       "179             5         10.0      0.800  1500.0   1668701718    1970-01-01   \n",
       "...           ...          ...        ...     ...          ...           ...   \n",
       "181526          3         10.0      5.850  1525.0       640665    1970-01-01   \n",
       "181528          3         10.0      6.449  1500.0       640665    1970-01-01   \n",
       "181530          3         10.0      3.850  1830.0       640665    1970-01-01   \n",
       "181532          3         10.0      1.400  1150.0   1668701718    1970-01-01   \n",
       "181534          3         10.0      1.400  1146.0   1668701718    1970-01-01   \n",
       "\n",
       "        selling_price  \n",
       "171          7.133296  \n",
       "174          7.110696  \n",
       "175          7.078342  \n",
       "176          7.130099  \n",
       "179          7.157735  \n",
       "...               ...  \n",
       "181526       6.124683  \n",
       "181528       6.126869  \n",
       "181530       6.131226  \n",
       "181532       6.586172  \n",
       "181534       6.588926  \n",
       "\n",
       "[34438 rows x 13 columns]"
      ]
     },
     "execution_count": 7,
     "metadata": {},
     "output_type": "execute_result"
    }
   ],
   "source": [
    "df[df['status']==\"Lost\"]"
   ]
  },
  {
   "cell_type": "code",
   "execution_count": 3,
   "metadata": {
    "colab": {
     "base_uri": "https://localhost:8080/"
    },
    "id": "P62DilFDZGo4",
    "outputId": "f29551d5-faf1-46e3-f7ba-9d1884b0d16a"
   },
   "outputs": [
    {
     "data": {
      "text/plain": [
       "Won                116009\n",
       "Lost                34438\n",
       "Not lost for AM     19573\n",
       "Revised              4276\n",
       "To be approved       4170\n",
       "Draft                3140\n",
       "Offered                53\n",
       "Offerable              10\n",
       "Wonderful               1\n",
       "Name: status, dtype: int64"
      ]
     },
     "execution_count": 3,
     "metadata": {},
     "output_type": "execute_result"
    }
   ],
   "source": [
    "df.status.value_counts()"
   ]
  },
  {
   "cell_type": "code",
   "execution_count": 4,
   "metadata": {
    "id": "uiV47cLYM6u6"
   },
   "outputs": [],
   "source": [
    "df=df[df['status'].isin(['Won','Lost'])]"
   ]
  },
  {
   "cell_type": "code",
   "execution_count": 5,
   "metadata": {
    "colab": {
     "base_uri": "https://localhost:8080/",
     "height": 330
    },
    "id": "nBdodKX8M64g",
    "outputId": "1cacd412-beeb-471d-cdc9-f5834fbd02fe"
   },
   "outputs": [
    {
     "data": {
      "text/html": [
       "<div>\n",
       "<style scoped>\n",
       "    .dataframe tbody tr th:only-of-type {\n",
       "        vertical-align: middle;\n",
       "    }\n",
       "\n",
       "    .dataframe tbody tr th {\n",
       "        vertical-align: top;\n",
       "    }\n",
       "\n",
       "    .dataframe thead th {\n",
       "        text-align: right;\n",
       "    }\n",
       "</style>\n",
       "<table border=\"1\" class=\"dataframe\">\n",
       "  <thead>\n",
       "    <tr style=\"text-align: right;\">\n",
       "      <th></th>\n",
       "      <th>Unnamed: 0</th>\n",
       "      <th>item_date</th>\n",
       "      <th>quantity tons</th>\n",
       "      <th>customer</th>\n",
       "      <th>country</th>\n",
       "      <th>status</th>\n",
       "      <th>item type</th>\n",
       "      <th>application</th>\n",
       "      <th>thickness</th>\n",
       "      <th>width</th>\n",
       "      <th>product_ref</th>\n",
       "      <th>delivery date</th>\n",
       "      <th>selling_price</th>\n",
       "    </tr>\n",
       "  </thead>\n",
       "  <tbody>\n",
       "    <tr>\n",
       "      <th>0</th>\n",
       "      <td>0</td>\n",
       "      <td>1970-01-01</td>\n",
       "      <td>54.151139</td>\n",
       "      <td>30156308.0</td>\n",
       "      <td>28.0</td>\n",
       "      <td>Won</td>\n",
       "      <td>W</td>\n",
       "      <td>10.0</td>\n",
       "      <td>2.00</td>\n",
       "      <td>1500.0</td>\n",
       "      <td>1670798778</td>\n",
       "      <td>1970-01-01</td>\n",
       "      <td>6.749931</td>\n",
       "    </tr>\n",
       "    <tr>\n",
       "      <th>1</th>\n",
       "      <td>1</td>\n",
       "      <td>1970-01-01</td>\n",
       "      <td>151.446000</td>\n",
       "      <td>30202938.0</td>\n",
       "      <td>25.0</td>\n",
       "      <td>Won</td>\n",
       "      <td>W</td>\n",
       "      <td>41.0</td>\n",
       "      <td>0.80</td>\n",
       "      <td>1210.0</td>\n",
       "      <td>1668701718</td>\n",
       "      <td>1970-01-01</td>\n",
       "      <td>6.953684</td>\n",
       "    </tr>\n",
       "    <tr>\n",
       "      <th>2</th>\n",
       "      <td>2</td>\n",
       "      <td>1970-01-01</td>\n",
       "      <td>151.446000</td>\n",
       "      <td>30153963.0</td>\n",
       "      <td>30.0</td>\n",
       "      <td>Won</td>\n",
       "      <td>WI</td>\n",
       "      <td>28.0</td>\n",
       "      <td>0.38</td>\n",
       "      <td>952.0</td>\n",
       "      <td>628377</td>\n",
       "      <td>1970-01-01</td>\n",
       "      <td>6.468211</td>\n",
       "    </tr>\n",
       "    <tr>\n",
       "      <th>3</th>\n",
       "      <td>3</td>\n",
       "      <td>1970-01-01</td>\n",
       "      <td>151.446000</td>\n",
       "      <td>30349574.0</td>\n",
       "      <td>32.0</td>\n",
       "      <td>Won</td>\n",
       "      <td>S</td>\n",
       "      <td>59.0</td>\n",
       "      <td>2.30</td>\n",
       "      <td>1317.0</td>\n",
       "      <td>1668701718</td>\n",
       "      <td>1970-01-01</td>\n",
       "      <td>6.643790</td>\n",
       "    </tr>\n",
       "    <tr>\n",
       "      <th>4</th>\n",
       "      <td>4</td>\n",
       "      <td>1970-01-01</td>\n",
       "      <td>151.446000</td>\n",
       "      <td>30211560.0</td>\n",
       "      <td>28.0</td>\n",
       "      <td>Won</td>\n",
       "      <td>W</td>\n",
       "      <td>10.0</td>\n",
       "      <td>4.00</td>\n",
       "      <td>1980.0</td>\n",
       "      <td>640665</td>\n",
       "      <td>1970-01-01</td>\n",
       "      <td>6.357842</td>\n",
       "    </tr>\n",
       "  </tbody>\n",
       "</table>\n",
       "</div>"
      ],
      "text/plain": [
       "   Unnamed: 0   item_date  quantity tons    customer  country status  \\\n",
       "0           0  1970-01-01      54.151139  30156308.0     28.0    Won   \n",
       "1           1  1970-01-01     151.446000  30202938.0     25.0    Won   \n",
       "2           2  1970-01-01     151.446000  30153963.0     30.0    Won   \n",
       "3           3  1970-01-01     151.446000  30349574.0     32.0    Won   \n",
       "4           4  1970-01-01     151.446000  30211560.0     28.0    Won   \n",
       "\n",
       "  item type  application  thickness   width  product_ref delivery date  \\\n",
       "0         W         10.0       2.00  1500.0   1670798778    1970-01-01   \n",
       "1         W         41.0       0.80  1210.0   1668701718    1970-01-01   \n",
       "2        WI         28.0       0.38   952.0       628377    1970-01-01   \n",
       "3         S         59.0       2.30  1317.0   1668701718    1970-01-01   \n",
       "4         W         10.0       4.00  1980.0       640665    1970-01-01   \n",
       "\n",
       "   selling_price  \n",
       "0       6.749931  \n",
       "1       6.953684  \n",
       "2       6.468211  \n",
       "3       6.643790  \n",
       "4       6.357842  "
      ]
     },
     "execution_count": 5,
     "metadata": {},
     "output_type": "execute_result"
    }
   ],
   "source": [
    "df.head()"
   ]
  },
  {
   "cell_type": "code",
   "execution_count": 6,
   "metadata": {
    "id": "iPNi0V1mNGJ3"
   },
   "outputs": [],
   "source": [
    "df.drop('Unnamed: 0',axis=1,inplace=True)"
   ]
  },
  {
   "cell_type": "code",
   "execution_count": 7,
   "metadata": {
    "colab": {
     "base_uri": "https://localhost:8080/",
     "height": 330
    },
    "id": "ISK0cUG0NTUu",
    "outputId": "b50436b4-47ea-4571-9a0d-8923750c929b"
   },
   "outputs": [
    {
     "data": {
      "text/html": [
       "<div>\n",
       "<style scoped>\n",
       "    .dataframe tbody tr th:only-of-type {\n",
       "        vertical-align: middle;\n",
       "    }\n",
       "\n",
       "    .dataframe tbody tr th {\n",
       "        vertical-align: top;\n",
       "    }\n",
       "\n",
       "    .dataframe thead th {\n",
       "        text-align: right;\n",
       "    }\n",
       "</style>\n",
       "<table border=\"1\" class=\"dataframe\">\n",
       "  <thead>\n",
       "    <tr style=\"text-align: right;\">\n",
       "      <th></th>\n",
       "      <th>item_date</th>\n",
       "      <th>quantity tons</th>\n",
       "      <th>customer</th>\n",
       "      <th>country</th>\n",
       "      <th>status</th>\n",
       "      <th>item type</th>\n",
       "      <th>application</th>\n",
       "      <th>thickness</th>\n",
       "      <th>width</th>\n",
       "      <th>product_ref</th>\n",
       "      <th>delivery date</th>\n",
       "      <th>selling_price</th>\n",
       "    </tr>\n",
       "  </thead>\n",
       "  <tbody>\n",
       "    <tr>\n",
       "      <th>0</th>\n",
       "      <td>1970-01-01</td>\n",
       "      <td>54.151139</td>\n",
       "      <td>30156308.0</td>\n",
       "      <td>28.0</td>\n",
       "      <td>Won</td>\n",
       "      <td>W</td>\n",
       "      <td>10.0</td>\n",
       "      <td>2.00</td>\n",
       "      <td>1500.0</td>\n",
       "      <td>1670798778</td>\n",
       "      <td>1970-01-01</td>\n",
       "      <td>6.749931</td>\n",
       "    </tr>\n",
       "    <tr>\n",
       "      <th>1</th>\n",
       "      <td>1970-01-01</td>\n",
       "      <td>151.446000</td>\n",
       "      <td>30202938.0</td>\n",
       "      <td>25.0</td>\n",
       "      <td>Won</td>\n",
       "      <td>W</td>\n",
       "      <td>41.0</td>\n",
       "      <td>0.80</td>\n",
       "      <td>1210.0</td>\n",
       "      <td>1668701718</td>\n",
       "      <td>1970-01-01</td>\n",
       "      <td>6.953684</td>\n",
       "    </tr>\n",
       "    <tr>\n",
       "      <th>2</th>\n",
       "      <td>1970-01-01</td>\n",
       "      <td>151.446000</td>\n",
       "      <td>30153963.0</td>\n",
       "      <td>30.0</td>\n",
       "      <td>Won</td>\n",
       "      <td>WI</td>\n",
       "      <td>28.0</td>\n",
       "      <td>0.38</td>\n",
       "      <td>952.0</td>\n",
       "      <td>628377</td>\n",
       "      <td>1970-01-01</td>\n",
       "      <td>6.468211</td>\n",
       "    </tr>\n",
       "    <tr>\n",
       "      <th>3</th>\n",
       "      <td>1970-01-01</td>\n",
       "      <td>151.446000</td>\n",
       "      <td>30349574.0</td>\n",
       "      <td>32.0</td>\n",
       "      <td>Won</td>\n",
       "      <td>S</td>\n",
       "      <td>59.0</td>\n",
       "      <td>2.30</td>\n",
       "      <td>1317.0</td>\n",
       "      <td>1668701718</td>\n",
       "      <td>1970-01-01</td>\n",
       "      <td>6.643790</td>\n",
       "    </tr>\n",
       "    <tr>\n",
       "      <th>4</th>\n",
       "      <td>1970-01-01</td>\n",
       "      <td>151.446000</td>\n",
       "      <td>30211560.0</td>\n",
       "      <td>28.0</td>\n",
       "      <td>Won</td>\n",
       "      <td>W</td>\n",
       "      <td>10.0</td>\n",
       "      <td>4.00</td>\n",
       "      <td>1980.0</td>\n",
       "      <td>640665</td>\n",
       "      <td>1970-01-01</td>\n",
       "      <td>6.357842</td>\n",
       "    </tr>\n",
       "  </tbody>\n",
       "</table>\n",
       "</div>"
      ],
      "text/plain": [
       "    item_date  quantity tons    customer  country status item type  \\\n",
       "0  1970-01-01      54.151139  30156308.0     28.0    Won         W   \n",
       "1  1970-01-01     151.446000  30202938.0     25.0    Won         W   \n",
       "2  1970-01-01     151.446000  30153963.0     30.0    Won        WI   \n",
       "3  1970-01-01     151.446000  30349574.0     32.0    Won         S   \n",
       "4  1970-01-01     151.446000  30211560.0     28.0    Won         W   \n",
       "\n",
       "   application  thickness   width  product_ref delivery date  selling_price  \n",
       "0         10.0       2.00  1500.0   1670798778    1970-01-01       6.749931  \n",
       "1         41.0       0.80  1210.0   1668701718    1970-01-01       6.953684  \n",
       "2         28.0       0.38   952.0       628377    1970-01-01       6.468211  \n",
       "3         59.0       2.30  1317.0   1668701718    1970-01-01       6.643790  \n",
       "4         10.0       4.00  1980.0       640665    1970-01-01       6.357842  "
      ]
     },
     "execution_count": 7,
     "metadata": {},
     "output_type": "execute_result"
    }
   ],
   "source": [
    "df.head()"
   ]
  },
  {
   "cell_type": "code",
   "execution_count": 8,
   "metadata": {
    "colab": {
     "base_uri": "https://localhost:8080/"
    },
    "id": "LX1CKvEMNTAu",
    "outputId": "95927017-6399-43bd-a042-32627bfd0853"
   },
   "outputs": [
    {
     "name": "stdout",
     "output_type": "stream",
     "text": [
      "<class 'pandas.core.frame.DataFrame'>\n",
      "Int64Index: 150447 entries, 0 to 181671\n",
      "Data columns (total 12 columns):\n",
      " #   Column         Non-Null Count   Dtype  \n",
      "---  ------         --------------   -----  \n",
      " 0   item_date      150447 non-null  object \n",
      " 1   quantity tons  150447 non-null  float64\n",
      " 2   customer       150447 non-null  float64\n",
      " 3   country        150447 non-null  float64\n",
      " 4   status         150447 non-null  object \n",
      " 5   item type      150447 non-null  object \n",
      " 6   application    150447 non-null  float64\n",
      " 7   thickness      150447 non-null  float64\n",
      " 8   width          150447 non-null  float64\n",
      " 9   product_ref    150447 non-null  int64  \n",
      " 10  delivery date  150447 non-null  object \n",
      " 11  selling_price  150441 non-null  float64\n",
      "dtypes: float64(7), int64(1), object(4)\n",
      "memory usage: 14.9+ MB\n"
     ]
    }
   ],
   "source": [
    "df.info()"
   ]
  },
  {
   "cell_type": "code",
   "execution_count": 9,
   "metadata": {
    "id": "ajE_L6dpNSv-"
   },
   "outputs": [],
   "source": [
    "df.status=df.status.map({'Won':1,'Lost':0})"
   ]
  },
  {
   "cell_type": "code",
   "execution_count": 2,
   "metadata": {
    "id": "v4tlg7PkNSf_"
   },
   "outputs": [],
   "source": [
    "from sklearn.preprocessing import LabelEncoder\n",
    "le2=LabelEncoder()"
   ]
  },
  {
   "cell_type": "code",
   "execution_count": 3,
   "metadata": {
    "id": "svC9NjreNSPC"
   },
   "outputs": [],
   "source": [
    "df['item type']=le2.fit_transform(df['item type'])"
   ]
  },
  {
   "cell_type": "code",
   "execution_count": 36,
   "metadata": {
    "colab": {
     "base_uri": "https://localhost:8080/",
     "height": 330
    },
    "id": "JAQwN0IrNRgC",
    "outputId": "de4c0699-6242-4eb1-d16a-9a0c40d6846e"
   },
   "outputs": [
    {
     "data": {
      "text/html": [
       "<div>\n",
       "<style scoped>\n",
       "    .dataframe tbody tr th:only-of-type {\n",
       "        vertical-align: middle;\n",
       "    }\n",
       "\n",
       "    .dataframe tbody tr th {\n",
       "        vertical-align: top;\n",
       "    }\n",
       "\n",
       "    .dataframe thead th {\n",
       "        text-align: right;\n",
       "    }\n",
       "</style>\n",
       "<table border=\"1\" class=\"dataframe\">\n",
       "  <thead>\n",
       "    <tr style=\"text-align: right;\">\n",
       "      <th></th>\n",
       "      <th>item_date</th>\n",
       "      <th>quantity tons</th>\n",
       "      <th>customer</th>\n",
       "      <th>country</th>\n",
       "      <th>status</th>\n",
       "      <th>item type</th>\n",
       "      <th>application</th>\n",
       "      <th>thickness</th>\n",
       "      <th>width</th>\n",
       "      <th>product_ref</th>\n",
       "      <th>delivery date</th>\n",
       "      <th>selling_price</th>\n",
       "    </tr>\n",
       "  </thead>\n",
       "  <tbody>\n",
       "    <tr>\n",
       "      <th>0</th>\n",
       "      <td>1970-01-01</td>\n",
       "      <td>54.151139</td>\n",
       "      <td>30156308.0</td>\n",
       "      <td>28.0</td>\n",
       "      <td>1</td>\n",
       "      <td>5</td>\n",
       "      <td>10.0</td>\n",
       "      <td>2.00</td>\n",
       "      <td>1500.0</td>\n",
       "      <td>1670798778</td>\n",
       "      <td>1970-01-01</td>\n",
       "      <td>6.749931</td>\n",
       "    </tr>\n",
       "    <tr>\n",
       "      <th>1</th>\n",
       "      <td>1970-01-01</td>\n",
       "      <td>151.446000</td>\n",
       "      <td>30202938.0</td>\n",
       "      <td>25.0</td>\n",
       "      <td>1</td>\n",
       "      <td>5</td>\n",
       "      <td>41.0</td>\n",
       "      <td>0.80</td>\n",
       "      <td>1210.0</td>\n",
       "      <td>1668701718</td>\n",
       "      <td>1970-01-01</td>\n",
       "      <td>6.953684</td>\n",
       "    </tr>\n",
       "    <tr>\n",
       "      <th>2</th>\n",
       "      <td>1970-01-01</td>\n",
       "      <td>151.446000</td>\n",
       "      <td>30153963.0</td>\n",
       "      <td>30.0</td>\n",
       "      <td>1</td>\n",
       "      <td>6</td>\n",
       "      <td>28.0</td>\n",
       "      <td>0.38</td>\n",
       "      <td>952.0</td>\n",
       "      <td>628377</td>\n",
       "      <td>1970-01-01</td>\n",
       "      <td>6.468211</td>\n",
       "    </tr>\n",
       "    <tr>\n",
       "      <th>3</th>\n",
       "      <td>1970-01-01</td>\n",
       "      <td>151.446000</td>\n",
       "      <td>30349574.0</td>\n",
       "      <td>32.0</td>\n",
       "      <td>1</td>\n",
       "      <td>3</td>\n",
       "      <td>59.0</td>\n",
       "      <td>2.30</td>\n",
       "      <td>1317.0</td>\n",
       "      <td>1668701718</td>\n",
       "      <td>1970-01-01</td>\n",
       "      <td>6.643790</td>\n",
       "    </tr>\n",
       "    <tr>\n",
       "      <th>4</th>\n",
       "      <td>1970-01-01</td>\n",
       "      <td>151.446000</td>\n",
       "      <td>30211560.0</td>\n",
       "      <td>28.0</td>\n",
       "      <td>1</td>\n",
       "      <td>5</td>\n",
       "      <td>10.0</td>\n",
       "      <td>4.00</td>\n",
       "      <td>1980.0</td>\n",
       "      <td>640665</td>\n",
       "      <td>1970-01-01</td>\n",
       "      <td>6.357842</td>\n",
       "    </tr>\n",
       "  </tbody>\n",
       "</table>\n",
       "</div>"
      ],
      "text/plain": [
       "    item_date  quantity tons    customer  country  status  item type  \\\n",
       "0  1970-01-01      54.151139  30156308.0     28.0       1          5   \n",
       "1  1970-01-01     151.446000  30202938.0     25.0       1          5   \n",
       "2  1970-01-01     151.446000  30153963.0     30.0       1          6   \n",
       "3  1970-01-01     151.446000  30349574.0     32.0       1          3   \n",
       "4  1970-01-01     151.446000  30211560.0     28.0       1          5   \n",
       "\n",
       "   application  thickness   width  product_ref delivery date  selling_price  \n",
       "0         10.0       2.00  1500.0   1670798778    1970-01-01       6.749931  \n",
       "1         41.0       0.80  1210.0   1668701718    1970-01-01       6.953684  \n",
       "2         28.0       0.38   952.0       628377    1970-01-01       6.468211  \n",
       "3         59.0       2.30  1317.0   1668701718    1970-01-01       6.643790  \n",
       "4         10.0       4.00  1980.0       640665    1970-01-01       6.357842  "
      ]
     },
     "execution_count": 36,
     "metadata": {},
     "output_type": "execute_result"
    }
   ],
   "source": [
    "df.head()"
   ]
  },
  {
   "cell_type": "code",
   "execution_count": 37,
   "metadata": {
    "colab": {
     "base_uri": "https://localhost:8080/"
    },
    "id": "EWgfV-rbRasC",
    "outputId": "d63367b5-6f73-4bfe-ac17-da46f9bff0ac"
   },
   "outputs": [
    {
     "data": {
      "text/plain": [
       "item_date        0\n",
       "quantity tons    0\n",
       "customer         0\n",
       "country          0\n",
       "status           0\n",
       "item type        0\n",
       "application      0\n",
       "thickness        0\n",
       "width            0\n",
       "product_ref      0\n",
       "delivery date    0\n",
       "selling_price    0\n",
       "dtype: int64"
      ]
     },
     "execution_count": 37,
     "metadata": {},
     "output_type": "execute_result"
    }
   ],
   "source": [
    "df.isnull().sum()"
   ]
  },
  {
   "cell_type": "code",
   "execution_count": 38,
   "metadata": {
    "colab": {
     "base_uri": "https://localhost:8080/",
     "height": 330
    },
    "id": "IsZqtm8HRq2X",
    "outputId": "9cf24ee6-9181-40b1-c5ba-88a16522d567"
   },
   "outputs": [
    {
     "data": {
      "text/html": [
       "<div>\n",
       "<style scoped>\n",
       "    .dataframe tbody tr th:only-of-type {\n",
       "        vertical-align: middle;\n",
       "    }\n",
       "\n",
       "    .dataframe tbody tr th {\n",
       "        vertical-align: top;\n",
       "    }\n",
       "\n",
       "    .dataframe thead th {\n",
       "        text-align: right;\n",
       "    }\n",
       "</style>\n",
       "<table border=\"1\" class=\"dataframe\">\n",
       "  <thead>\n",
       "    <tr style=\"text-align: right;\">\n",
       "      <th></th>\n",
       "      <th>item_date</th>\n",
       "      <th>quantity tons</th>\n",
       "      <th>customer</th>\n",
       "      <th>country</th>\n",
       "      <th>status</th>\n",
       "      <th>item type</th>\n",
       "      <th>application</th>\n",
       "      <th>thickness</th>\n",
       "      <th>width</th>\n",
       "      <th>product_ref</th>\n",
       "      <th>delivery date</th>\n",
       "      <th>selling_price</th>\n",
       "    </tr>\n",
       "  </thead>\n",
       "  <tbody>\n",
       "    <tr>\n",
       "      <th>0</th>\n",
       "      <td>1970-01-01</td>\n",
       "      <td>54.151139</td>\n",
       "      <td>30156308.0</td>\n",
       "      <td>28.0</td>\n",
       "      <td>1</td>\n",
       "      <td>5</td>\n",
       "      <td>10.0</td>\n",
       "      <td>2.00</td>\n",
       "      <td>1500.0</td>\n",
       "      <td>1670798778</td>\n",
       "      <td>1970-01-01</td>\n",
       "      <td>6.749931</td>\n",
       "    </tr>\n",
       "    <tr>\n",
       "      <th>1</th>\n",
       "      <td>1970-01-01</td>\n",
       "      <td>151.446000</td>\n",
       "      <td>30202938.0</td>\n",
       "      <td>25.0</td>\n",
       "      <td>1</td>\n",
       "      <td>5</td>\n",
       "      <td>41.0</td>\n",
       "      <td>0.80</td>\n",
       "      <td>1210.0</td>\n",
       "      <td>1668701718</td>\n",
       "      <td>1970-01-01</td>\n",
       "      <td>6.953684</td>\n",
       "    </tr>\n",
       "    <tr>\n",
       "      <th>2</th>\n",
       "      <td>1970-01-01</td>\n",
       "      <td>151.446000</td>\n",
       "      <td>30153963.0</td>\n",
       "      <td>30.0</td>\n",
       "      <td>1</td>\n",
       "      <td>6</td>\n",
       "      <td>28.0</td>\n",
       "      <td>0.38</td>\n",
       "      <td>952.0</td>\n",
       "      <td>628377</td>\n",
       "      <td>1970-01-01</td>\n",
       "      <td>6.468211</td>\n",
       "    </tr>\n",
       "    <tr>\n",
       "      <th>3</th>\n",
       "      <td>1970-01-01</td>\n",
       "      <td>151.446000</td>\n",
       "      <td>30349574.0</td>\n",
       "      <td>32.0</td>\n",
       "      <td>1</td>\n",
       "      <td>3</td>\n",
       "      <td>59.0</td>\n",
       "      <td>2.30</td>\n",
       "      <td>1317.0</td>\n",
       "      <td>1668701718</td>\n",
       "      <td>1970-01-01</td>\n",
       "      <td>6.643790</td>\n",
       "    </tr>\n",
       "    <tr>\n",
       "      <th>4</th>\n",
       "      <td>1970-01-01</td>\n",
       "      <td>151.446000</td>\n",
       "      <td>30211560.0</td>\n",
       "      <td>28.0</td>\n",
       "      <td>1</td>\n",
       "      <td>5</td>\n",
       "      <td>10.0</td>\n",
       "      <td>4.00</td>\n",
       "      <td>1980.0</td>\n",
       "      <td>640665</td>\n",
       "      <td>1970-01-01</td>\n",
       "      <td>6.357842</td>\n",
       "    </tr>\n",
       "  </tbody>\n",
       "</table>\n",
       "</div>"
      ],
      "text/plain": [
       "    item_date  quantity tons    customer  country  status  item type  \\\n",
       "0  1970-01-01      54.151139  30156308.0     28.0       1          5   \n",
       "1  1970-01-01     151.446000  30202938.0     25.0       1          5   \n",
       "2  1970-01-01     151.446000  30153963.0     30.0       1          6   \n",
       "3  1970-01-01     151.446000  30349574.0     32.0       1          3   \n",
       "4  1970-01-01     151.446000  30211560.0     28.0       1          5   \n",
       "\n",
       "   application  thickness   width  product_ref delivery date  selling_price  \n",
       "0         10.0       2.00  1500.0   1670798778    1970-01-01       6.749931  \n",
       "1         41.0       0.80  1210.0   1668701718    1970-01-01       6.953684  \n",
       "2         28.0       0.38   952.0       628377    1970-01-01       6.468211  \n",
       "3         59.0       2.30  1317.0   1668701718    1970-01-01       6.643790  \n",
       "4         10.0       4.00  1980.0       640665    1970-01-01       6.357842  "
      ]
     },
     "execution_count": 38,
     "metadata": {},
     "output_type": "execute_result"
    }
   ],
   "source": [
    "df.head()"
   ]
  },
  {
   "cell_type": "code",
   "execution_count": 39,
   "metadata": {
    "colab": {
     "base_uri": "https://localhost:8080/"
    },
    "id": "BoXdYElrSFQX",
    "outputId": "35a55f65-bbcf-48df-c9fb-04b6bb2dc4cb"
   },
   "outputs": [
    {
     "name": "stdout",
     "output_type": "stream",
     "text": [
      "<class 'pandas.core.frame.DataFrame'>\n",
      "Int64Index: 150441 entries, 0 to 181671\n",
      "Data columns (total 12 columns):\n",
      " #   Column         Non-Null Count   Dtype  \n",
      "---  ------         --------------   -----  \n",
      " 0   item_date      150441 non-null  object \n",
      " 1   quantity tons  150441 non-null  float64\n",
      " 2   customer       150441 non-null  float64\n",
      " 3   country        150441 non-null  float64\n",
      " 4   status         150441 non-null  int64  \n",
      " 5   item type      150441 non-null  int64  \n",
      " 6   application    150441 non-null  float64\n",
      " 7   thickness      150441 non-null  float64\n",
      " 8   width          150441 non-null  float64\n",
      " 9   product_ref    150441 non-null  int64  \n",
      " 10  delivery date  150441 non-null  object \n",
      " 11  selling_price  150441 non-null  float64\n",
      "dtypes: float64(7), int64(3), object(2)\n",
      "memory usage: 14.9+ MB\n"
     ]
    }
   ],
   "source": [
    "df.info()"
   ]
  },
  {
   "cell_type": "code",
   "execution_count": 40,
   "metadata": {
    "colab": {
     "base_uri": "https://localhost:8080/"
    },
    "id": "WM1FOOyVY2TC",
    "outputId": "2c4b37c6-e8a4-4d5f-c7bb-e73f3b532f51"
   },
   "outputs": [
    {
     "data": {
      "text/plain": [
       "1    116004\n",
       "0     34437\n",
       "Name: status, dtype: int64"
      ]
     },
     "execution_count": 40,
     "metadata": {},
     "output_type": "execute_result"
    }
   ],
   "source": [
    "df.status.value_counts()"
   ]
  },
  {
   "cell_type": "code",
   "execution_count": 41,
   "metadata": {
    "id": "UsXysVcl7Iud"
   },
   "outputs": [],
   "source": [
    "df=df.dropna()"
   ]
  },
  {
   "cell_type": "code",
   "execution_count": 42,
   "metadata": {
    "id": "tUUbQgCpSilx"
   },
   "outputs": [],
   "source": [
    "X=df.drop(columns=[\"status\",\"item_date\",\"delivery date\"],axis=1)\n",
    "y=df[\"status\"]"
   ]
  },
  {
   "cell_type": "code",
   "execution_count": 43,
   "metadata": {
    "colab": {
     "base_uri": "https://localhost:8080/"
    },
    "id": "lik0zIJy_nGL",
    "outputId": "7881beb2-925f-47ff-dc65-dcbdb188d287"
   },
   "outputs": [
    {
     "data": {
      "text/plain": [
       "quantity tons    0\n",
       "customer         0\n",
       "country          0\n",
       "item type        0\n",
       "application      0\n",
       "thickness        0\n",
       "width            0\n",
       "product_ref      0\n",
       "selling_price    0\n",
       "dtype: int64"
      ]
     },
     "execution_count": 43,
     "metadata": {},
     "output_type": "execute_result"
    }
   ],
   "source": [
    "X.isnull().sum()"
   ]
  },
  {
   "cell_type": "code",
   "execution_count": 44,
   "metadata": {
    "id": "da8_5Edh6-kK"
   },
   "outputs": [],
   "source": [
    "from imblearn.combine import SMOTEENN\n",
    "\n",
    "smt = SMOTEENN(sampling_strategy='all')\n",
    "X_smt, y_smt = smt.fit_resample(X, y)"
   ]
  },
  {
   "cell_type": "code",
   "execution_count": 45,
   "metadata": {
    "id": "rjkHvFnbSH2t"
   },
   "outputs": [],
   "source": [
    "from sklearn.model_selection import train_test_split\n",
    "X_train,X_test,y_train,y_test=train_test_split(X_smt,y_smt,test_size=0.2,random_state=42)"
   ]
  },
  {
   "cell_type": "code",
   "execution_count": 46,
   "metadata": {
    "id": "gILeZVH5-30b"
   },
   "outputs": [],
   "source": [
    "from sklearn.preprocessing import StandardScaler\n",
    "sc1=StandardScaler()\n",
    "X_train=sc1.fit_transform(X_train)\n",
    "X_test=sc1.transform(X_test)"
   ]
  },
  {
   "cell_type": "code",
   "execution_count": 23,
   "metadata": {
    "colab": {
     "base_uri": "https://localhost:8080/"
    },
    "id": "0g0kn2IaSs43",
    "outputId": "b5cdf434-5ed0-4b9c-94fe-78cc5f96e6c9"
   },
   "outputs": [
    {
     "name": "stdout",
     "output_type": "stream",
     "text": [
      "depth: 30 train_score: 0.9995182166202244 val_score: 0.9738600031096045\n",
      "depth: 31 train_score: 0.9997460871376859 val_score: 0.9734433216070382\n",
      "depth: 32 train_score: 0.9998177035860308 val_score: 0.9734107699475876\n",
      "depth: 33 train_score: 0.9998632776895232 val_score: 0.9733847329436325\n",
      "depth: 34 train_score: 0.9999414047240813 val_score: 0.973508424925939\n",
      "depth: 35 train_score: 0.9999739576551473 val_score: 0.9733651927920925\n",
      "depth: 36 train_score: 1.0 val_score: 0.9733782182881372\n",
      "depth: 37 train_score: 1.0 val_score: 0.9731959164482822\n",
      "depth: 38 train_score: 1.0 val_score: 0.9734693615781735\n",
      "depth: 39 train_score: 1.0 val_score: 0.9735540067441455\n",
      "depth: 40 train_score: 1.0 val_score: 0.9732284698032642\n"
     ]
    }
   ],
   "source": [
    "from sklearn.tree import DecisionTreeClassifier\n",
    "from sklearn.metrics import roc_auc_score\n",
    "from sklearn.model_selection import cross_val_score\n",
    "from sklearn.metrics import make_scorer\n",
    "import numpy as np\n",
    "from sklearn.metrics import accuracy_score\n",
    "for depth in [30,31,32,33,34,35,36,37,38,39,40]:\n",
    "  dt=DecisionTreeClassifier(max_depth=depth)\n",
    "  dt.fit(X_train,y_train)\n",
    "  trainAccuracy=accuracy_score(y_train,dt.predict(X_train))\n",
    "  dt=DecisionTreeClassifier(max_depth=depth)\n",
    "  valAccuracyy=cross_val_score(dt,X_train,y_train,cv=10)\n",
    "  print(\"depth:\",depth,\"train_score:\",trainAccuracy,\"val_score:\",np.mean(valAccuracyy))"
   ]
  },
  {
   "cell_type": "code",
   "execution_count": 47,
   "metadata": {
    "colab": {
     "base_uri": "https://localhost:8080/",
     "height": 74
    },
    "id": "Vl14mZtPXSRw",
    "outputId": "8ee7314f-5e50-494e-f98a-e44a73b8e9ee"
   },
   "outputs": [
    {
     "data": {
      "text/html": [
       "<style>#sk-container-id-2 {color: black;background-color: white;}#sk-container-id-2 pre{padding: 0;}#sk-container-id-2 div.sk-toggleable {background-color: white;}#sk-container-id-2 label.sk-toggleable__label {cursor: pointer;display: block;width: 100%;margin-bottom: 0;padding: 0.3em;box-sizing: border-box;text-align: center;}#sk-container-id-2 label.sk-toggleable__label-arrow:before {content: \"▸\";float: left;margin-right: 0.25em;color: #696969;}#sk-container-id-2 label.sk-toggleable__label-arrow:hover:before {color: black;}#sk-container-id-2 div.sk-estimator:hover label.sk-toggleable__label-arrow:before {color: black;}#sk-container-id-2 div.sk-toggleable__content {max-height: 0;max-width: 0;overflow: hidden;text-align: left;background-color: #f0f8ff;}#sk-container-id-2 div.sk-toggleable__content pre {margin: 0.2em;color: black;border-radius: 0.25em;background-color: #f0f8ff;}#sk-container-id-2 input.sk-toggleable__control:checked~div.sk-toggleable__content {max-height: 200px;max-width: 100%;overflow: auto;}#sk-container-id-2 input.sk-toggleable__control:checked~label.sk-toggleable__label-arrow:before {content: \"▾\";}#sk-container-id-2 div.sk-estimator input.sk-toggleable__control:checked~label.sk-toggleable__label {background-color: #d4ebff;}#sk-container-id-2 div.sk-label input.sk-toggleable__control:checked~label.sk-toggleable__label {background-color: #d4ebff;}#sk-container-id-2 input.sk-hidden--visually {border: 0;clip: rect(1px 1px 1px 1px);clip: rect(1px, 1px, 1px, 1px);height: 1px;margin: -1px;overflow: hidden;padding: 0;position: absolute;width: 1px;}#sk-container-id-2 div.sk-estimator {font-family: monospace;background-color: #f0f8ff;border: 1px dotted black;border-radius: 0.25em;box-sizing: border-box;margin-bottom: 0.5em;}#sk-container-id-2 div.sk-estimator:hover {background-color: #d4ebff;}#sk-container-id-2 div.sk-parallel-item::after {content: \"\";width: 100%;border-bottom: 1px solid gray;flex-grow: 1;}#sk-container-id-2 div.sk-label:hover label.sk-toggleable__label {background-color: #d4ebff;}#sk-container-id-2 div.sk-serial::before {content: \"\";position: absolute;border-left: 1px solid gray;box-sizing: border-box;top: 0;bottom: 0;left: 50%;z-index: 0;}#sk-container-id-2 div.sk-serial {display: flex;flex-direction: column;align-items: center;background-color: white;padding-right: 0.2em;padding-left: 0.2em;position: relative;}#sk-container-id-2 div.sk-item {position: relative;z-index: 1;}#sk-container-id-2 div.sk-parallel {display: flex;align-items: stretch;justify-content: center;background-color: white;position: relative;}#sk-container-id-2 div.sk-item::before, #sk-container-id-2 div.sk-parallel-item::before {content: \"\";position: absolute;border-left: 1px solid gray;box-sizing: border-box;top: 0;bottom: 0;left: 50%;z-index: -1;}#sk-container-id-2 div.sk-parallel-item {display: flex;flex-direction: column;z-index: 1;position: relative;background-color: white;}#sk-container-id-2 div.sk-parallel-item:first-child::after {align-self: flex-end;width: 50%;}#sk-container-id-2 div.sk-parallel-item:last-child::after {align-self: flex-start;width: 50%;}#sk-container-id-2 div.sk-parallel-item:only-child::after {width: 0;}#sk-container-id-2 div.sk-dashed-wrapped {border: 1px dashed gray;margin: 0 0.4em 0.5em 0.4em;box-sizing: border-box;padding-bottom: 0.4em;background-color: white;}#sk-container-id-2 div.sk-label label {font-family: monospace;font-weight: bold;display: inline-block;line-height: 1.2em;}#sk-container-id-2 div.sk-label-container {text-align: center;}#sk-container-id-2 div.sk-container {/* jupyter's `normalize.less` sets `[hidden] { display: none; }` but bootstrap.min.css set `[hidden] { display: none !important; }` so we also need the `!important` here to be able to override the default hidden behavior on the sphinx rendered scikit-learn.org. See: https://github.com/scikit-learn/scikit-learn/issues/21755 */display: inline-block !important;position: relative;}#sk-container-id-2 div.sk-text-repr-fallback {display: none;}</style><div id=\"sk-container-id-2\" class=\"sk-top-container\"><div class=\"sk-text-repr-fallback\"><pre>DecisionTreeClassifier(max_depth=30)</pre><b>In a Jupyter environment, please rerun this cell to show the HTML representation or trust the notebook. <br />On GitHub, the HTML representation is unable to render, please try loading this page with nbviewer.org.</b></div><div class=\"sk-container\" hidden><div class=\"sk-item\"><div class=\"sk-estimator sk-toggleable\"><input class=\"sk-toggleable__control sk-hidden--visually\" id=\"sk-estimator-id-2\" type=\"checkbox\" checked><label for=\"sk-estimator-id-2\" class=\"sk-toggleable__label sk-toggleable__label-arrow\">DecisionTreeClassifier</label><div class=\"sk-toggleable__content\"><pre>DecisionTreeClassifier(max_depth=30)</pre></div></div></div></div></div>"
      ],
      "text/plain": [
       "DecisionTreeClassifier(max_depth=30)"
      ]
     },
     "execution_count": 47,
     "metadata": {},
     "output_type": "execute_result"
    }
   ],
   "source": [
    "dt=DecisionTreeClassifier(max_depth=30)\n",
    "dt.fit(X_train,y_train)"
   ]
  },
  {
   "cell_type": "code",
   "execution_count": 48,
   "metadata": {
    "id": "YBWld3kdXpNb"
   },
   "outputs": [],
   "source": [
    "y_pred=dt.predict(X_test)"
   ]
  },
  {
   "cell_type": "code",
   "execution_count": 49,
   "metadata": {
    "colab": {
     "base_uri": "https://localhost:8080/",
     "height": 466
    },
    "id": "yjDreOhmYEHy",
    "outputId": "93e0a7bf-a926-420a-d6ef-94c5070e22e5"
   },
   "outputs": [
    {
     "data": {
      "text/plain": [
       "<sklearn.metrics._plot.confusion_matrix.ConfusionMatrixDisplay at 0x29070da9ed0>"
      ]
     },
     "execution_count": 49,
     "metadata": {},
     "output_type": "execute_result"
    },
    {
     "data": {
      "image/png": "[encoded data removed]",
      "text/plain": [
       "<Figure size 640x480 with 2 Axes>"
      ]
     },
     "metadata": {},
     "output_type": "display_data"
    }
   ],
   "source": [
    "from sklearn.metrics import confusion_matrix,ConfusionMatrixDisplay\n",
    "cm=confusion_matrix(y_test,y_pred)\n",
    "disp=ConfusionMatrixDisplay(confusion_matrix=cm,display_labels=dt.class_weight)\n",
    "disp.plot()"
   ]
  },
  {
   "cell_type": "code",
   "execution_count": 50,
   "metadata": {
    "colab": {
     "base_uri": "https://localhost:8080/"
    },
    "id": "7Ugcnk-Hcnfp",
    "outputId": "7a9c08e3-5468-4c44-c64a-6fd335782be7"
   },
   "outputs": [
    {
     "data": {
      "text/plain": [
       "0.9779804560260587"
      ]
     },
     "execution_count": 50,
     "metadata": {},
     "output_type": "execute_result"
    }
   ],
   "source": [
    "accuracy_score(y_test,y_pred)"
   ]
  },
  {
   "cell_type": "code",
   "execution_count": 51,
   "metadata": {
    "id": "tman01Pfc1DD"
   },
   "outputs": [],
   "source": [
    "from sklearn.metrics import f1_score"
   ]
  },
  {
   "cell_type": "code",
   "execution_count": 64,
   "metadata": {
    "colab": {
     "base_uri": "https://localhost:8080/"
    },
    "id": "1Yu55IeVcsze",
    "outputId": "98c3458d-518f-4645-adf2-f463128e5136"
   },
   "outputs": [
    {
     "data": {
      "text/plain": [
       "0.9888920984217852"
      ]
     },
     "execution_count": 64,
     "metadata": {},
     "output_type": "execute_result"
    }
   ],
   "source": [
    "f1_score(y_test,y_pred)"
   ]
  },
  {
   "cell_type": "code",
   "execution_count": 53,
   "metadata": {
    "colab": {
     "base_uri": "https://localhost:8080/"
    },
    "id": "VTzYxFNnbtih",
    "outputId": "599cd5cb-1820-4b14-c0b3-fecd40f6d7bf"
   },
   "outputs": [
    {
     "data": {
      "text/plain": [
       "0.97797322936831"
      ]
     },
     "execution_count": 53,
     "metadata": {},
     "output_type": "execute_result"
    }
   ],
   "source": [
    "roc_auc_score(y_test,y_pred)"
   ]
  },
  {
   "cell_type": "code",
   "execution_count": 54,
   "metadata": {
    "colab": {
     "base_uri": "https://localhost:8080/"
    },
    "id": "f_eR50PAgqvt",
    "outputId": "401523ca-b89f-4752-e57d-8d56fee36bd9"
   },
   "outputs": [
    {
     "data": {
      "text/plain": [
       "(153496, 9)"
      ]
     },
     "execution_count": 54,
     "metadata": {},
     "output_type": "execute_result"
    }
   ],
   "source": [
    "X_train.shape"
   ]
  },
  {
   "cell_type": "code",
   "execution_count": 55,
   "metadata": {
    "colab": {
     "base_uri": "https://localhost:8080/"
    },
    "id": "jVpyYHTLYxTT",
    "outputId": "63265026-7f60-4910-d9b8-99aacec2b4f7"
   },
   "outputs": [
    {
     "data": {
      "text/plain": [
       "3.8073549220576037"
      ]
     },
     "execution_count": 55,
     "metadata": {},
     "output_type": "execute_result"
    }
   ],
   "source": [
    "np.log(14)/np.log(2)"
   ]
  },
  {
   "cell_type": "code",
   "execution_count": 57,
   "metadata": {
    "id": "9hDIYayXdbD-"
   },
   "outputs": [],
   "source": [
    "from sklearn.ensemble import RandomForestClassifier\n",
    "rc=RandomForestClassifier(n_estimators=200,max_depth=31,max_features=\"sqrt\")\n",
    "rc.fit(X_train,y_train)\n",
    "y_pred=rc.predict(X_test)"
   ]
  },
  {
   "cell_type": "code",
   "execution_count": 58,
   "metadata": {
    "colab": {
     "base_uri": "https://localhost:8080/",
     "height": 466
    },
    "id": "oOkIgu9uiQ8k",
    "outputId": "d84868e6-6c2e-4d50-ea08-0e2857a224f5"
   },
   "outputs": [
    {
     "name": "stdout",
     "output_type": "stream",
     "text": [
      "0.9889626757913172\n"
     ]
    },
    {
     "data": {
      "image/png": "[encoded data removed]",
      "text/plain": [
       "<Figure size 640x480 with 2 Axes>"
      ]
     },
     "metadata": {},
     "output_type": "display_data"
    }
   ],
   "source": [
    "from sklearn.metrics import confusion_matrix,ConfusionMatrixDisplay\n",
    "cm=confusion_matrix(y_test,y_pred)\n",
    "disp=ConfusionMatrixDisplay(confusion_matrix=cm,display_labels=rc.class_weight)\n",
    "disp.plot()\n",
    "print(roc_auc_score(y_test,y_pred))"
   ]
  },
  {
   "cell_type": "code",
   "execution_count": null,
   "metadata": {
    "colab": {
     "base_uri": "https://localhost:8080/"
    },
    "id": "U8uTszlGx--_",
    "outputId": "4baf129a-3750-47e5-8de5-37cae754ed0b"
   },
   "outputs": [],
   "source": [
    "df.shape"
   ]
  },
  {
   "cell_type": "code",
   "execution_count": null,
   "metadata": {
    "colab": {
     "base_uri": "https://localhost:8080/"
    },
    "id": "yNNq5YVAyB-E",
    "outputId": "2c57b0f8-e514-4873-e5a9-83e65c916f87"
   },
   "outputs": [],
   "source": [
    "X_test.shape"
   ]
  },
  {
   "cell_type": "code",
   "execution_count": null,
   "metadata": {
    "colab": {
     "base_uri": "https://localhost:8080/"
    },
    "id": "tq7PmnEMybOq",
    "outputId": "dc7bbcaf-7aa8-426e-c176-387f9a28a17c"
   },
   "outputs": [],
   "source": [
    "y_test.shape"
   ]
  },
  {
   "cell_type": "code",
   "execution_count": 61,
   "metadata": {},
   "outputs": [],
   "source": [
    "import pickle\n",
    "with open(\"class_model.pkl\",\"wb\") as file:\n",
    "        rf=pickle.dump(rc,file)"
   ]
  },
  {
   "cell_type": "code",
   "execution_count": 6,
   "metadata": {},
   "outputs": [],
   "source": [
    "with open(\"lableenc2.pkl\",\"wb\") as file:\n",
    "    pickle.dump(le2,file)"
   ]
  },
  {
   "cell_type": "code",
   "execution_count": 63,
   "metadata": {},
   "outputs": [],
   "source": [
    "with open(\"scaler2.pkl\",\"wb\") as file:\n",
    "    pickle.dump(sc1,file)"
   ]
  },
  {
   "cell_type": "code",
   "execution_count": 5,
   "metadata": {},
   "outputs": [],
   "source": [
    "import pickle"
   ]
  },
  {
   "cell_type": "code",
   "execution_count": 65,
   "metadata": {},
   "outputs": [],
   "source": [
    "from sklearn.metrics import classification_report"
   ]
  },
  {
   "cell_type": "code",
   "execution_count": 67,
   "metadata": {},
   "outputs": [
    {
     "name": "stdout",
     "output_type": "stream",
     "text": [
      "              precision    recall  f1-score   support\n",
      "\n",
      "           0       0.98      0.99      0.99     19251\n",
      "           1       0.99      0.98      0.99     19124\n",
      "\n",
      "    accuracy                           0.99     38375\n",
      "   macro avg       0.99      0.99      0.99     38375\n",
      "weighted avg       0.99      0.99      0.99     38375\n",
      "\n"
     ]
    }
   ],
   "source": [
    "print(classification_report(y_test,y_pred))"
   ]
  },
  {
   "cell_type": "code",
   "execution_count": null,
   "metadata": {},
   "outputs": [],
   "source": []
  }
 ],
 "metadata": {
  "colab": {
   "provenance": []
  },
  "kernelspec": {
   "display_name": "Python 3 (ipykernel)",
   "language": "python",
   "name": "python3"
  },
  "language_info": {
   "codemirror_mode": {
    "name": "ipython",
    "version": 3
   },
   "file_extension": ".py",
   "mimetype": "text/x-python",
   "name": "python",
   "nbconvert_exporter": "python",
   "pygments_lexer": "ipython3",
   "version": "3.11.4"
  }
 },
 "nbformat": 4,
 "nbformat_minor": 1
}
